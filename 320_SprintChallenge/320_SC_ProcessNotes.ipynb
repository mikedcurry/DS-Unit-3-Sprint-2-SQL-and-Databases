{
  "nbformat": 4,
  "nbformat_minor": 0,
  "metadata": {
    "colab": {
      "name": "320_SC_ProcessNotes.ipynb",
      "version": "0.3.2",
      "provenance": [],
      "collapsed_sections": []
    },
    "kernelspec": {
      "name": "python3",
      "display_name": "Python 3"
    }
  },
  "cells": [
    {
      "cell_type": "code",
      "metadata": {
        "id": "r4JMjS550Kir",
        "colab_type": "code",
        "colab": {}
      },
      "source": [
        "import pandas as pd\n",
        "import sqlite3\n",
        "# import sqlite3_helper as sql_help"
      ],
      "execution_count": 0,
      "outputs": []
    },
    {
      "cell_type": "code",
      "metadata": {
        "id": "pY-OA1Yq0eUt",
        "colab_type": "code",
        "colab": {
          "base_uri": "https://localhost:8080/",
          "height": 309
        },
        "outputId": "8a6382cd-c3a2-4260-db37-0f0a6334f862"
      },
      "source": [
        "# If in Colab, you Might Need:\n",
        "!wget https://github.com/mikedcurry/CS_320/raw/master/northwind_small.sqlite3\n",
        "\n",
        "# possibly needed: raw=true"
      ],
      "execution_count": 2,
      "outputs": [
        {
          "output_type": "stream",
          "text": [
            "--2019-09-13 15:07:08--  https://github.com/mikedcurry/CS_320/raw/master/northwind_small.sqlite3\n",
            "Resolving github.com (github.com)... 192.30.255.112\n",
            "Connecting to github.com (github.com)|192.30.255.112|:443... connected.\n",
            "HTTP request sent, awaiting response... 302 Found\n",
            "Location: https://raw.githubusercontent.com/mikedcurry/CS_320/master/northwind_small.sqlite3 [following]\n",
            "--2019-09-13 15:07:08--  https://raw.githubusercontent.com/mikedcurry/CS_320/master/northwind_small.sqlite3\n",
            "Resolving raw.githubusercontent.com (raw.githubusercontent.com)... 151.101.0.133, 151.101.64.133, 151.101.128.133, ...\n",
            "Connecting to raw.githubusercontent.com (raw.githubusercontent.com)|151.101.0.133|:443... connected.\n",
            "HTTP request sent, awaiting response... 200 OK\n",
            "Length: 290816 (284K) [application/octet-stream]\n",
            "Saving to: ‘northwind_small.sqlite3’\n",
            "\n",
            "northwind_small.sql 100%[===================>] 284.00K  --.-KB/s    in 0.03s   \n",
            "\n",
            "2019-09-13 15:07:08 (9.34 MB/s) - ‘northwind_small.sqlite3’ saved [290816/290816]\n",
            "\n"
          ],
          "name": "stdout"
        }
      ]
    },
    {
      "cell_type": "code",
      "metadata": {
        "id": "QRFzzldb0rTN",
        "colab_type": "code",
        "colab": {}
      },
      "source": [
        "# 1st connect to db / sqlite3 file\n",
        "conn = sqlite3.connect(\"northwind_small.sqlite3\")"
      ],
      "execution_count": 0,
      "outputs": []
    },
    {
      "cell_type": "code",
      "metadata": {
        "id": "zfdz7ADH0uDQ",
        "colab_type": "code",
        "colab": {}
      },
      "source": [
        "# Create Cursor\n",
        "c = conn.cursor()"
      ],
      "execution_count": 0,
      "outputs": []
    },
    {
      "cell_type": "markdown",
      "metadata": {
        "id": "YL8rD9XyKxuX",
        "colab_type": "text"
      },
      "source": [
        "## Part 1"
      ]
    },
    {
      "cell_type": "code",
      "metadata": {
        "id": "-KPZ-BcG1HM8",
        "colab_type": "code",
        "colab": {}
      },
      "source": [
        "# Open a connection to a new (blank) database file demo_data.sqlite3\n",
        "conn_p1 = sqlite3.connect('demo_data.sqlite3')"
      ],
      "execution_count": 0,
      "outputs": []
    },
    {
      "cell_type": "code",
      "metadata": {
        "id": "GzzNVd76LLaO",
        "colab_type": "code",
        "colab": {}
      },
      "source": [
        "# Make a cursor\n",
        "c_p1 = conn_p1.cursor()"
      ],
      "execution_count": 0,
      "outputs": []
    },
    {
      "cell_type": "code",
      "metadata": {
        "id": "i8p1mI93LXN0",
        "colab_type": "code",
        "colab": {
          "base_uri": "https://localhost:8080/",
          "height": 34
        },
        "outputId": "f96fcb4f-b9bf-4f37-8b1d-614223bc47f8"
      },
      "source": [
        "# execute an appropriate CREATE TABLE statement to accept the above data (name the table demo)\n",
        "\n",
        "c_p1.execute(\"\"\"\n",
        "  CREATE TABLE demo (\n",
        "    s TEXT,\n",
        "    x INT,\n",
        "    y INT\n",
        "  );\n",
        "\"\"\")"
      ],
      "execution_count": 8,
      "outputs": [
        {
          "output_type": "execute_result",
          "data": {
            "text/plain": [
              "<sqlite3.Cursor at 0x7f3e941a27a0>"
            ]
          },
          "metadata": {
            "tags": []
          },
          "execution_count": 8
        }
      ]
    },
    {
      "cell_type": "code",
      "metadata": {
        "id": "1LGRAE1JMsx6",
        "colab_type": "code",
        "colab": {
          "base_uri": "https://localhost:8080/",
          "height": 34
        },
        "outputId": "afa5b3f3-7c1a-4610-dad9-49096c642fe2"
      },
      "source": [
        "# Write and execute appropriate INSERT INTO statements to add the data (as shown above) to the database\n",
        "\n",
        "c_p1.execute (\"\"\"\n",
        "  INSERT INTO demo (s, x, y)\n",
        "  VALUES \n",
        "    ('v', 5, 9),\n",
        "    ('g', 3, 9),\n",
        "    ('f', 8, 7)\n",
        "  ;\n",
        "\"\"\")"
      ],
      "execution_count": 11,
      "outputs": [
        {
          "output_type": "execute_result",
          "data": {
            "text/plain": [
              "<sqlite3.Cursor at 0x7f3e941a27a0>"
            ]
          },
          "metadata": {
            "tags": []
          },
          "execution_count": 11
        }
      ]
    },
    {
      "cell_type": "code",
      "metadata": {
        "id": "9thDa88EPAnf",
        "colab_type": "code",
        "colab": {
          "base_uri": "https://localhost:8080/",
          "height": 34
        },
        "outputId": "92515651-81f3-40f9-d8b7-eee2c6a0be7e"
      },
      "source": [
        "# Verify success\n",
        "check = c_p1.execute('SELECT * FROM demo;').fetchall()\n",
        "print(check)"
      ],
      "execution_count": 12,
      "outputs": [
        {
          "output_type": "stream",
          "text": [
            "[('v', 5, 9), ('g', 3, 9), ('f', 8, 7)]\n"
          ],
          "name": "stdout"
        }
      ]
    },
    {
      "cell_type": "code",
      "metadata": {
        "id": "_NlG6oi1Pdpv",
        "colab_type": "code",
        "colab": {
          "base_uri": "https://localhost:8080/",
          "height": 34
        },
        "outputId": "a5705d27-1869-4b09-af85-0201d4fc3fa1"
      },
      "source": [
        "# Count how many rows you have - it should be 3!\n",
        "c_p1.execute('SELECT COUNT (*) FROM demo').fetchone()[0]"
      ],
      "execution_count": 15,
      "outputs": [
        {
          "output_type": "execute_result",
          "data": {
            "text/plain": [
              "3"
            ]
          },
          "metadata": {
            "tags": []
          },
          "execution_count": 15
        }
      ]
    },
    {
      "cell_type": "code",
      "metadata": {
        "id": "4USV1kpKP6KB",
        "colab_type": "code",
        "colab": {
          "base_uri": "https://localhost:8080/",
          "height": 34
        },
        "outputId": "8757d71b-63de-43f9-b945-59a6fc6487c8"
      },
      "source": [
        "# How many rows are there where both x and y are at least 5?\n",
        "c_p1.execute(\"\"\"SELECT COUNT (*)\n",
        "                FROM demo\n",
        "                WHERE x > 5\n",
        "                AND y > 5\n",
        "             \"\"\").fetchall()[0][0] "
      ],
      "execution_count": 18,
      "outputs": [
        {
          "output_type": "execute_result",
          "data": {
            "text/plain": [
              "1"
            ]
          },
          "metadata": {
            "tags": []
          },
          "execution_count": 18
        }
      ]
    },
    {
      "cell_type": "code",
      "metadata": {
        "id": "X8cElTJ1Qk8J",
        "colab_type": "code",
        "colab": {
          "base_uri": "https://localhost:8080/",
          "height": 34
        },
        "outputId": "05f1b05c-1cb5-46e2-b6b6-b6caedfd782b"
      },
      "source": [
        "# How many unique values of y are there (hint - COUNT() can accept a keyword DISTINCT)?\n",
        "c_p1.execute(\"\"\"SELECT COUNT (DISTINCT y)\n",
        "                FROM demo;\n",
        "             \"\"\").fetchone()[0]"
      ],
      "execution_count": 21,
      "outputs": [
        {
          "output_type": "execute_result",
          "data": {
            "text/plain": [
              "2"
            ]
          },
          "metadata": {
            "tags": []
          },
          "execution_count": 21
        }
      ]
    },
    {
      "cell_type": "code",
      "metadata": {
        "id": "tM5ZALFATwAF",
        "colab_type": "code",
        "colab": {}
      },
      "source": [
        "# Close, Commit, Move on\n",
        "c_p1.close()\n",
        "c_p1.commit()"
      ],
      "execution_count": 0,
      "outputs": []
    },
    {
      "cell_type": "markdown",
      "metadata": {
        "id": "E3H7pRffSTiu",
        "colab_type": "text"
      },
      "source": [
        "## Part 2"
      ]
    },
    {
      "cell_type": "code",
      "metadata": {
        "id": "dQ0uipZJSSh1",
        "colab_type": "code",
        "colab": {
          "base_uri": "https://localhost:8080/",
          "height": 238
        },
        "outputId": "eede1b3b-c1f9-4091-a260-541175e38e87"
      },
      "source": [
        "# Inspect Table Names:\n",
        "c.execute(\"SELECT name FROM sqlite_master WHERE type='table' ORDER BY name;\").fetchall()"
      ],
      "execution_count": 23,
      "outputs": [
        {
          "output_type": "execute_result",
          "data": {
            "text/plain": [
              "[('Category',),\n",
              " ('Customer',),\n",
              " ('CustomerCustomerDemo',),\n",
              " ('CustomerDemographic',),\n",
              " ('Employee',),\n",
              " ('EmployeeTerritory',),\n",
              " ('Order',),\n",
              " ('OrderDetail',),\n",
              " ('Product',),\n",
              " ('Region',),\n",
              " ('Shipper',),\n",
              " ('Supplier',),\n",
              " ('Territory',)]"
            ]
          },
          "metadata": {
            "tags": []
          },
          "execution_count": 23
        }
      ]
    },
    {
      "cell_type": "code",
      "metadata": {
        "id": "dsJ-rd_WTSEa",
        "colab_type": "code",
        "colab": {
          "base_uri": "https://localhost:8080/",
          "height": 187
        },
        "outputId": "82124777-0e64-4620-fe75-7cfdbecb8556"
      },
      "source": [
        "# What are the ten most expensive items (per unit price) in the database?\n",
        "\n",
        "c.execute(\"\"\"SELECT ProductName, UnitPrice\n",
        "             FROM Product\n",
        "             ORDER BY UnitPrice DESC\n",
        "             LIMIT 10;              \n",
        "          \"\"\").fetchall()"
      ],
      "execution_count": 25,
      "outputs": [
        {
          "output_type": "execute_result",
          "data": {
            "text/plain": [
              "[('Côte de Blaye', 263.5),\n",
              " ('Thüringer Rostbratwurst', 123.79),\n",
              " ('Mishi Kobe Niku', 97),\n",
              " (\"Sir Rodney's Marmalade\", 81),\n",
              " ('Carnarvon Tigers', 62.5),\n",
              " ('Raclette Courdavault', 55),\n",
              " ('Manjimup Dried Apples', 53),\n",
              " ('Tarte au sucre', 49.3),\n",
              " ('Ipoh Coffee', 46),\n",
              " ('Rössle Sauerkraut', 45.6)]"
            ]
          },
          "metadata": {
            "tags": []
          },
          "execution_count": 25
        }
      ]
    },
    {
      "cell_type": "code",
      "metadata": {
        "id": "hBKHOo7PWtVv",
        "colab_type": "code",
        "colab": {
          "base_uri": "https://localhost:8080/",
          "height": 34
        },
        "outputId": "28ea9ed6-85bc-4aa2-a049-632f9971096b"
      },
      "source": [
        "c.execute('SELECT BirthDate FROM Employee LIMIT 2;').fetchall()"
      ],
      "execution_count": 26,
      "outputs": [
        {
          "output_type": "execute_result",
          "data": {
            "text/plain": [
              "[('1980-12-08',), ('1984-02-19',)]"
            ]
          },
          "metadata": {
            "tags": []
          },
          "execution_count": 26
        }
      ]
    },
    {
      "cell_type": "code",
      "metadata": {
        "id": "FW0XTbIhVgvL",
        "colab_type": "code",
        "colab": {
          "base_uri": "https://localhost:8080/",
          "height": 34
        },
        "outputId": "90576c4a-70d4-42a0-9a1f-cfa7d389cd1c"
      },
      "source": [
        "# What is the average age of an employee at the time of their hiring? \n",
        "#   (Hint: a lot of arithmetic works with dates.)\n",
        "\n",
        "c.execute(\"\"\"SELECT AVG(2019-09-13 - BirthDate)\n",
        "             FROM Employee\n",
        "          \"\"\").fetchone()[0]\n",
        "\n",
        "# Someone ought to call in about all this child labor..."
      ],
      "execution_count": 29,
      "outputs": [
        {
          "output_type": "execute_result",
          "data": {
            "text/plain": [
              "9.222222222222221"
            ]
          },
          "metadata": {
            "tags": []
          },
          "execution_count": 29
        }
      ]
    },
    {
      "cell_type": "code",
      "metadata": {
        "id": "L5PIz84nYCmL",
        "colab_type": "code",
        "colab": {}
      },
      "source": [
        "# Maybe come back and figure out why date subtraction looks whack..."
      ],
      "execution_count": 0,
      "outputs": []
    },
    {
      "cell_type": "markdown",
      "metadata": {
        "id": "jmef9vX0YGGr",
        "colab_type": "text"
      },
      "source": [
        "## Part 3"
      ]
    },
    {
      "cell_type": "code",
      "metadata": {
        "id": "H__6K5_rYH5f",
        "colab_type": "code",
        "colab": {
          "base_uri": "https://localhost:8080/",
          "height": 187
        },
        "outputId": "a5d85ea5-ce1c-4e49-f3ce-8aaf54d88a9b"
      },
      "source": [
        "# What are the ten most expensive items in the database and their suppliers?\n",
        "\n",
        "c.execute(\"\"\"SELECT spl.CompanyName, prd.ProductName, prd.UnitPrice\n",
        "             FROM Product AS prd,\n",
        "                  Supplier AS spl\n",
        "             WHERE prd.SupplierID = spl.Id\n",
        "             ORDER BY prd.UnitPrice DESC\n",
        "             LIMIT 10;\n",
        "          \"\"\").fetchall()\n",
        "\n",
        "# Mah ha ha! No use of the JOIN function..."
      ],
      "execution_count": 44,
      "outputs": [
        {
          "output_type": "execute_result",
          "data": {
            "text/plain": [
              "[('Aux joyeux ecclésiastiques', 'Côte de Blaye', 263.5),\n",
              " ('Plutzer Lebensmittelgroßmärkte AG', 'Thüringer Rostbratwurst', 123.79),\n",
              " ('Tokyo Traders', 'Mishi Kobe Niku', 97),\n",
              " ('Specialty Biscuits, Ltd.', \"Sir Rodney's Marmalade\", 81),\n",
              " ('Pavlova, Ltd.', 'Carnarvon Tigers', 62.5),\n",
              " ('Gai pâturage', 'Raclette Courdavault', 55),\n",
              " (\"G'day, Mate\", 'Manjimup Dried Apples', 53),\n",
              " (\"Forêts d'érables\", 'Tarte au sucre', 49.3),\n",
              " ('Leka Trading', 'Ipoh Coffee', 46),\n",
              " ('Plutzer Lebensmittelgroßmärkte AG', 'Rössle Sauerkraut', 45.6)]"
            ]
          },
          "metadata": {
            "tags": []
          },
          "execution_count": 44
        }
      ]
    },
    {
      "cell_type": "code",
      "metadata": {
        "id": "E9W3yl-pdJhx",
        "colab_type": "code",
        "colab": {}
      },
      "source": [
        "# c.execute(\"\"\"SELECT spl.CompanyName, prd.ProductName, prd.UnitPrice\n",
        "#              FROM Supplier AS spl\n",
        "#              INNER JOIN Product AS prd\n",
        "#              ON spl.SupplierID = prd.Id\n",
        "#              ORDER BY prd.UnitPrice DESC\n",
        "#              LIMIT 10;\n",
        "#           \"\"\").fetchall()"
      ],
      "execution_count": 0,
      "outputs": []
    },
    {
      "cell_type": "code",
      "metadata": {
        "id": "j-gPDZyqhkuO",
        "colab_type": "code",
        "colab": {
          "base_uri": "https://localhost:8080/",
          "height": 221
        },
        "outputId": "a515bc44-ebb7-486c-a260-c110ab9e5e4b"
      },
      "source": [
        "# Sample\n",
        "c.execute('SELECT * FROM Supplier').fetchall()[-1]"
      ],
      "execution_count": 42,
      "outputs": [
        {
          "output_type": "execute_result",
          "data": {
            "text/plain": [
              "(29,\n",
              " \"Forêts d'érables\",\n",
              " 'Chantal Goulet',\n",
              " 'Accounting Manager',\n",
              " '148 rue Chasseur',\n",
              " 'Ste-Hyacinthe',\n",
              " 'North America',\n",
              " 'J2S 7S8',\n",
              " 'Canada',\n",
              " '(514) 555-2955',\n",
              " '(514) 555-2921',\n",
              " None)"
            ]
          },
          "metadata": {
            "tags": []
          },
          "execution_count": 42
        }
      ]
    },
    {
      "cell_type": "code",
      "metadata": {
        "id": "yUWypldNimot",
        "colab_type": "code",
        "colab": {
          "base_uri": "https://localhost:8080/",
          "height": 54
        },
        "outputId": "757aeec8-e61d-4443-83c3-ee6d59ac8515"
      },
      "source": [
        "# Oh Crap, forgot about this...\n",
        "c.execute('SELECT sql FROM sqlite_master WHERE name=\"Supplier\";').fetchall()\n",
        "# Oh man! I read about that stupid Id vs SupplierID things and forgot. Ugh."
      ],
      "execution_count": 43,
      "outputs": [
        {
          "output_type": "execute_result",
          "data": {
            "text/plain": [
              "[('CREATE TABLE \"Supplier\" \\n(\\n  \"Id\" INTEGER PRIMARY KEY, \\n  \"CompanyName\" VARCHAR(8000) NULL, \\n  \"ContactName\" VARCHAR(8000) NULL, \\n  \"ContactTitle\" VARCHAR(8000) NULL, \\n  \"Address\" VARCHAR(8000) NULL, \\n  \"City\" VARCHAR(8000) NULL, \\n  \"Region\" VARCHAR(8000) NULL, \\n  \"PostalCode\" VARCHAR(8000) NULL, \\n  \"Country\" VARCHAR(8000) NULL, \\n  \"Phone\" VARCHAR(8000) NULL, \\n  \"Fax\" VARCHAR(8000) NULL, \\n  \"HomePage\" VARCHAR(8000) NULL \\n)',)]"
            ]
          },
          "metadata": {
            "tags": []
          },
          "execution_count": 43
        }
      ]
    },
    {
      "cell_type": "code",
      "metadata": {
        "id": "CyeUx4_Dk2W5",
        "colab_type": "code",
        "colab": {
          "base_uri": "https://localhost:8080/",
          "height": 54
        },
        "outputId": "177466b8-d35e-4062-8558-c3f912092460"
      },
      "source": [
        "c.execute('SELECT sql FROM sqlite_master WHERE name=\"Order\";').fetchall()"
      ],
      "execution_count": 46,
      "outputs": [
        {
          "output_type": "execute_result",
          "data": {
            "text/plain": [
              "[('CREATE TABLE \"Product\" \\n(\\n  \"Id\" INTEGER PRIMARY KEY, \\n  \"ProductName\" VARCHAR(8000) NULL, \\n  \"SupplierId\" INTEGER NOT NULL, \\n  \"CategoryId\" INTEGER NOT NULL, \\n  \"QuantityPerUnit\" VARCHAR(8000) NULL, \\n  \"UnitPrice\" DECIMAL NOT NULL, \\n  \"UnitsInStock\" INTEGER NOT NULL, \\n  \"UnitsOnOrder\" INTEGER NOT NULL, \\n  \"ReorderLevel\" INTEGER NOT NULL, \\n  \"Discontinued\" INTEGER NOT NULL \\n)',)]"
            ]
          },
          "metadata": {
            "tags": []
          },
          "execution_count": 46
        }
      ]
    },
    {
      "cell_type": "code",
      "metadata": {
        "id": "ID4xGDVbiWvK",
        "colab_type": "code",
        "colab": {
          "base_uri": "https://localhost:8080/",
          "height": 34
        },
        "outputId": "0a8ae7d6-7de5-42db-a486-1ef0dd6d6982"
      },
      "source": [
        "# What is the largest category (by number of unique products in it)?\n",
        "\n",
        "c.execute(\"\"\"SELECT cat.CategoryName, prd.Id, COUNT(*)\n",
        "             FROM Product AS prd,\n",
        "                  Category AS cat\n",
        "             GROUP BY cat.CategoryName   \n",
        "             ORDER BY COUNT (*) DESC\n",
        "             LIMIT 1;\n",
        "          \"\"\").fetchone()"
      ],
      "execution_count": 49,
      "outputs": [
        {
          "output_type": "execute_result",
          "data": {
            "text/plain": [
              "('Beverages', 77, 77)"
            ]
          },
          "metadata": {
            "tags": []
          },
          "execution_count": 49
        }
      ]
    },
    {
      "cell_type": "code",
      "metadata": {
        "id": "ZL10Ir2DnmX1",
        "colab_type": "code",
        "colab": {
          "base_uri": "https://localhost:8080/",
          "height": 34
        },
        "outputId": "d28737b6-2e26-4c3f-b43c-11f2ef6c2c3c"
      },
      "source": [
        "# Hmm... I think I trust the Inner Join for this one...\n",
        "\n",
        "c.execute(\"\"\"SELECT cat.CategoryName, prd.Id, COUNT(*)\n",
        "             FROM Product AS prd\n",
        "             INNER JOIN Category AS cat\n",
        "             ON prd.CategoryID = cat.Id\n",
        "             GROUP BY cat.CategoryName   \n",
        "             ORDER BY COUNT (*) DESC\n",
        "             LIMIT 1;\n",
        "          \"\"\").fetchone()"
      ],
      "execution_count": 51,
      "outputs": [
        {
          "output_type": "execute_result",
          "data": {
            "text/plain": [
              "('Confections', 68, 13)"
            ]
          },
          "metadata": {
            "tags": []
          },
          "execution_count": 51
        }
      ]
    }
  ]
}