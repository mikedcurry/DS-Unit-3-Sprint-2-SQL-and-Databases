{
  "nbformat": 4,
  "nbformat_minor": 0,
  "metadata": {
    "colab": {
      "name": "321_going_down_in_flames.ipynb",
      "version": "0.3.2",
      "provenance": []
    },
    "kernelspec": {
      "name": "python3",
      "display_name": "Python 3"
    }
  },
  "cells": [
    {
      "cell_type": "markdown",
      "metadata": {
        "id": "K55tBue6lbj8",
        "colab_type": "text"
      },
      "source": [
        "### From Training Kit Warm Up"
      ]
    },
    {
      "cell_type": "code",
      "metadata": {
        "id": "tcBpodroae91",
        "colab_type": "code",
        "colab": {}
      },
      "source": [
        "import numpy as np\n",
        "import pandas as pd"
      ],
      "execution_count": 0,
      "outputs": []
    },
    {
      "cell_type": "code",
      "metadata": {
        "id": "FDqGsEcVajq8",
        "colab_type": "code",
        "outputId": "a840a8f0-836e-49b4-9c82-3e4e127106c5",
        "colab": {
          "base_uri": "https://localhost:8080/",
          "height": 204
        }
      },
      "source": [
        "url = ('https://raw.github.com/pandas-dev/pandas/master/pandas/tests/data/tips.csv')\n",
        "tips = pd.read_csv(url)\n",
        "\n",
        "tips.head()"
      ],
      "execution_count": 0,
      "outputs": [
        {
          "output_type": "execute_result",
          "data": {
            "text/html": [
              "<div>\n",
              "<style scoped>\n",
              "    .dataframe tbody tr th:only-of-type {\n",
              "        vertical-align: middle;\n",
              "    }\n",
              "\n",
              "    .dataframe tbody tr th {\n",
              "        vertical-align: top;\n",
              "    }\n",
              "\n",
              "    .dataframe thead th {\n",
              "        text-align: right;\n",
              "    }\n",
              "</style>\n",
              "<table border=\"1\" class=\"dataframe\">\n",
              "  <thead>\n",
              "    <tr style=\"text-align: right;\">\n",
              "      <th></th>\n",
              "      <th>total_bill</th>\n",
              "      <th>tip</th>\n",
              "      <th>sex</th>\n",
              "      <th>smoker</th>\n",
              "      <th>day</th>\n",
              "      <th>time</th>\n",
              "      <th>size</th>\n",
              "    </tr>\n",
              "  </thead>\n",
              "  <tbody>\n",
              "    <tr>\n",
              "      <th>0</th>\n",
              "      <td>16.99</td>\n",
              "      <td>1.01</td>\n",
              "      <td>Female</td>\n",
              "      <td>No</td>\n",
              "      <td>Sun</td>\n",
              "      <td>Dinner</td>\n",
              "      <td>2</td>\n",
              "    </tr>\n",
              "    <tr>\n",
              "      <th>1</th>\n",
              "      <td>10.34</td>\n",
              "      <td>1.66</td>\n",
              "      <td>Male</td>\n",
              "      <td>No</td>\n",
              "      <td>Sun</td>\n",
              "      <td>Dinner</td>\n",
              "      <td>3</td>\n",
              "    </tr>\n",
              "    <tr>\n",
              "      <th>2</th>\n",
              "      <td>21.01</td>\n",
              "      <td>3.50</td>\n",
              "      <td>Male</td>\n",
              "      <td>No</td>\n",
              "      <td>Sun</td>\n",
              "      <td>Dinner</td>\n",
              "      <td>3</td>\n",
              "    </tr>\n",
              "    <tr>\n",
              "      <th>3</th>\n",
              "      <td>23.68</td>\n",
              "      <td>3.31</td>\n",
              "      <td>Male</td>\n",
              "      <td>No</td>\n",
              "      <td>Sun</td>\n",
              "      <td>Dinner</td>\n",
              "      <td>2</td>\n",
              "    </tr>\n",
              "    <tr>\n",
              "      <th>4</th>\n",
              "      <td>24.59</td>\n",
              "      <td>3.61</td>\n",
              "      <td>Female</td>\n",
              "      <td>No</td>\n",
              "      <td>Sun</td>\n",
              "      <td>Dinner</td>\n",
              "      <td>4</td>\n",
              "    </tr>\n",
              "  </tbody>\n",
              "</table>\n",
              "</div>"
            ],
            "text/plain": [
              "   total_bill   tip     sex smoker  day    time  size\n",
              "0       16.99  1.01  Female     No  Sun  Dinner     2\n",
              "1       10.34  1.66    Male     No  Sun  Dinner     3\n",
              "2       21.01  3.50    Male     No  Sun  Dinner     3\n",
              "3       23.68  3.31    Male     No  Sun  Dinner     2\n",
              "4       24.59  3.61  Female     No  Sun  Dinner     4"
            ]
          },
          "metadata": {
            "tags": []
          },
          "execution_count": 2
        }
      ]
    },
    {
      "cell_type": "code",
      "metadata": {
        "id": "KFuC39oxa3j-",
        "colab_type": "code",
        "colab": {}
      },
      "source": [
        ""
      ],
      "execution_count": 0,
      "outputs": []
    },
    {
      "cell_type": "markdown",
      "metadata": {
        "id": "4vte8WLBlg1g",
        "colab_type": "text"
      },
      "source": [
        "## Part 1 of Assignment: "
      ]
    },
    {
      "cell_type": "markdown",
      "metadata": {
        "id": "NPlwufsOllqC",
        "colab_type": "text"
      },
      "source": [
        "1. How many total Characters are there?\n",
        "2. How many of each specific subclass?\n",
        "3. How many total Items?\n",
        "4. How many of the Items are weapons? How many are not?\n",
        "5. How many Items does each character have? (Return first 20 rows)\n",
        "6. How many Weapons does each character have? (Return first 20 rows)\n",
        "7. On average, how many Items does each Character have?\n",
        "8. On average, how many Weapons does each character have?"
      ]
    },
    {
      "cell_type": "code",
      "metadata": {
        "id": "XIP9gG5khhMY",
        "colab_type": "code",
        "colab": {}
      },
      "source": [
        "import sqlite3\n",
        "import os"
      ],
      "execution_count": 0,
      "outputs": []
    },
    {
      "cell_type": "code",
      "metadata": {
        "id": "hsHQaE8Pkbrw",
        "colab_type": "code",
        "colab": {
          "base_uri": "https://localhost:8080/",
          "height": 377
        },
        "outputId": "afbd4b6e-68a5-4eaa-e6fd-d8d8bceed276"
      },
      "source": [
        "!wget https://github.com/LambdaSchool/DS-Unit-3-Sprint-2-SQL-and-Databases/blob/master/module1-introduction-to-sql/rpg_db.sqlite3?raw=true"
      ],
      "execution_count": 13,
      "outputs": [
        {
          "output_type": "stream",
          "text": [
            "--2019-09-10 19:06:21--  https://github.com/LambdaSchool/DS-Unit-3-Sprint-2-SQL-and-Databases/blob/master/module1-introduction-to-sql/rpg_db.sqlite3?raw=true\n",
            "Resolving github.com (github.com)... 140.82.114.3\n",
            "Connecting to github.com (github.com)|140.82.114.3|:443... connected.\n",
            "HTTP request sent, awaiting response... 302 Found\n",
            "Location: https://github.com/LambdaSchool/DS-Unit-3-Sprint-2-SQL-and-Databases/raw/master/module1-introduction-to-sql/rpg_db.sqlite3 [following]\n",
            "--2019-09-10 19:06:21--  https://github.com/LambdaSchool/DS-Unit-3-Sprint-2-SQL-and-Databases/raw/master/module1-introduction-to-sql/rpg_db.sqlite3\n",
            "Reusing existing connection to github.com:443.\n",
            "HTTP request sent, awaiting response... 302 Found\n",
            "Location: https://raw.githubusercontent.com/LambdaSchool/DS-Unit-3-Sprint-2-SQL-and-Databases/master/module1-introduction-to-sql/rpg_db.sqlite3 [following]\n",
            "--2019-09-10 19:06:21--  https://raw.githubusercontent.com/LambdaSchool/DS-Unit-3-Sprint-2-SQL-and-Databases/master/module1-introduction-to-sql/rpg_db.sqlite3\n",
            "Resolving raw.githubusercontent.com (raw.githubusercontent.com)... 151.101.0.133, 151.101.64.133, 151.101.128.133, ...\n",
            "Connecting to raw.githubusercontent.com (raw.githubusercontent.com)|151.101.0.133|:443... connected.\n",
            "HTTP request sent, awaiting response... 200 OK\n",
            "Length: 253952 (248K) [application/octet-stream]\n",
            "Saving to: ‘rpg_db.sqlite3?raw=true’\n",
            "\n",
            "rpg_db.sqlite3?raw= 100%[===================>] 248.00K  --.-KB/s    in 0.03s   \n",
            "\n",
            "2019-09-10 19:06:22 (8.77 MB/s) - ‘rpg_db.sqlite3?raw=true’ saved [253952/253952]\n",
            "\n"
          ],
          "name": "stdout"
        }
      ]
    },
    {
      "cell_type": "code",
      "metadata": {
        "id": "vXifyDcxkddM",
        "colab_type": "code",
        "colab": {}
      },
      "source": [
        "!mv 'rpg_db.sqlite3?raw=true' rpg_db.sqlite3"
      ],
      "execution_count": 0,
      "outputs": []
    },
    {
      "cell_type": "code",
      "metadata": {
        "id": "N_GZRCMXhs2E",
        "colab_type": "code",
        "colab": {}
      },
      "source": [
        "#Make connection\n",
        "conn = sqlite3.connect('rpg_db.sqlite3')\n",
        "\n",
        "# Make a viewing cursor (?) note sure why it's called that... but to 'c' what inside makes sense to me...\n",
        "c = conn.cursor()"
      ],
      "execution_count": 0,
      "outputs": []
    },
    {
      "cell_type": "code",
      "metadata": {
        "id": "XjCzYWMXlkMO",
        "colab_type": "code",
        "colab": {}
      },
      "source": [
        "# 1.)\n",
        "\n",
        "# Like df.head()\n",
        "SELECT *\n",
        "FROM charactercreator_character\n",
        "LIMIT 5;\n",
        "\n",
        "\n",
        "# Like df.nunique().value_counts()\n",
        "#queries only unique values in selected column\n",
        "SELECT DISTINCT name\n",
        "FROM charactercreator_characterv\n",
        "\n",
        "Result: 297 rows returned in 19ms\n",
        "At line 1:\n",
        "SELECT DISTINCT name\n",
        "FROM charactercreator_character -->"
      ],
      "execution_count": 0,
      "outputs": []
    },
    {
      "cell_type": "code",
      "metadata": {
        "id": "WwHUBYNMl5AN",
        "colab_type": "code",
        "colab": {
          "base_uri": "https://localhost:8080/",
          "height": 34
        },
        "outputId": "d7a1f88c-3e73-4fcd-9a43-46731d2d3d9d"
      },
      "source": [
        "# 1.) Again... with python\n",
        "\n",
        "# going to execute within the 'c' a SQL Command...\n",
        "get_answer = c.execute('SELECT COUNT (*) FROM charactercreator_character;')\n",
        "\n",
        "\n",
        "print(get_answer)\n",
        "# that looks promising, but it's only giving me a location of the object\n",
        "\n",
        "# <sqlite3.Cursor object at 0x7fe8a6ee16c0>\n",
        "# <sqlite3.Cursor object at 0x7fe8a662ab90> yeah, they're diferent."
      ],
      "execution_count": 32,
      "outputs": [
        {
          "output_type": "stream",
          "text": [
            "<sqlite3.Cursor object at 0x7fe8a662ab90>\n"
          ],
          "name": "stdout"
        }
      ]
    },
    {
      "cell_type": "code",
      "metadata": {
        "id": "hkqlqp1ckvAX",
        "colab_type": "code",
        "colab": {
          "base_uri": "https://localhost:8080/",
          "height": 34
        },
        "outputId": "834fd2ab-ae3d-4004-a51c-6b99509834a5"
      },
      "source": [
        "# hmm... it looks like I need a splice out of the answer?\n",
        "# Nope. I needed to fetch\n",
        "\n",
        "get_answer.fetchall()\n",
        "\n",
        "# .fetchone()\n",
        "# .fetchlast()\n",
        "\n",
        "# Very interesting thing happens when I re-run this cell: it disapears????"
      ],
      "execution_count": 33,
      "outputs": [
        {
          "output_type": "execute_result",
          "data": {
            "text/plain": [
              "[(302,)]"
            ]
          },
          "metadata": {
            "tags": []
          },
          "execution_count": 33
        }
      ]
    },
    {
      "cell_type": "markdown",
      "metadata": {
        "id": "txDD9rxFmP3T",
        "colab_type": "text"
      },
      "source": [
        "#### Harsh's approach? hide this confusion..."
      ]
    },
    {
      "cell_type": "code",
      "metadata": {
        "id": "h1cVkUkBuFwP",
        "colab_type": "code",
        "colab": {}
      },
      "source": [
        "#################################\n",
        "# WTF is Harsh doing????\n",
        "#####################################\n",
        "\n",
        "\n",
        "import sqlite3\n",
        "\n",
        "def create_connection(db_file, verbose=False):\n",
        "    \"\"\" create a database connection to a SQLite database \"\"\"\n",
        "    conn = None\n",
        "    try:\n",
        "        conn = sqlite3.connect(db_file)\n",
        "        if verbose:\n",
        "            print(f'Using SQLite version: {sqlite3.version}')\n",
        "            print(f'Creating Connection to {db_file}...')\n",
        "        return conn\n",
        "    except sqlite3.Error as e:\n",
        "        print(e)\n",
        "\n",
        "\n",
        "def select_all_query(db_file, query, verbose=False):\n",
        "    \"\"\"\n",
        "    Query all rows in the database table\n",
        "    :param conn: the Connection object\n",
        "    :return: result as list\n",
        "    \"\"\"\n",
        "    conn = create_connection(db_file, verbose)\n",
        "    cur = conn.cursor()\n",
        "    if not query.startswith('SELECT'):\n",
        "        raise ValueError('Query should begin with `SELECT`')\n",
        "    \n",
        "    cur.execute(query)\n",
        "    rows = cur.fetchall()\n",
        "\n",
        "    if verbose:\n",
        "        for row in rows:\n",
        "            print(row)\n",
        "\n",
        "    return rows"
      ],
      "execution_count": 0,
      "outputs": []
    },
    {
      "cell_type": "code",
      "metadata": {
        "id": "i44oV9sD_OPk",
        "colab_type": "code",
        "colab": {}
      },
      "source": [
        ""
      ],
      "execution_count": 0,
      "outputs": []
    },
    {
      "cell_type": "markdown",
      "metadata": {
        "colab_type": "text",
        "id": "__UbDdma_PhW"
      },
      "source": [
        "![alt text](https://slack-imgs.com/?c=1&o1=ro&url=https%3A%2F%2Fi.imgur.com%2FkZmKHQW.png)"
      ]
    },
    {
      "cell_type": "markdown",
      "metadata": {
        "id": "MQvH847_mVRp",
        "colab_type": "text"
      },
      "source": [
        "#### ...to hide above."
      ]
    },
    {
      "cell_type": "code",
      "metadata": {
        "id": "f7CfEJDPvmx8",
        "colab_type": "code",
        "colab": {}
      },
      "source": [
        "# 2.) \n",
        "SELECT \n",
        "FROM charactercreator_mage\n",
        "\n",
        "Result: 108 rows returned in 18ms\n",
        "At line 1:\n",
        "SELECT *\n",
        "FROM charactercreator_mage\n",
        "\n",
        "SELECT *\n",
        "FROM charactercreator_thief\n",
        "\n",
        "Result: 51 rows returned in 15ms\n",
        "At line 1:\n",
        "SELECT *\n",
        "FROM charactercreator_thief\n",
        "\n",
        "SELECT *\n",
        "FROM charactercreator_cleric\n",
        "\n",
        "Result: 75 rows returned in 14ms\n",
        "At line 1:\n",
        "SELECT *\n",
        "FROM charactercreator_cleric\n",
        "\n",
        "SELECT *\n",
        "FROM charactercreator_fighter\n",
        "\n",
        "Result: 68 rows returned in 14ms\n",
        "At line 1:\n",
        "SELECT *\n",
        "FROM charactercreator_fighter"
      ],
      "execution_count": 0,
      "outputs": []
    },
    {
      "cell_type": "code",
      "metadata": {
        "id": "6xYzDQnBmiBV",
        "colab_type": "code",
        "colab": {
          "base_uri": "https://localhost:8080/",
          "height": 34
        },
        "outputId": "341bdb81-def5-4210-df3e-8ecb687d32db"
      },
      "source": [
        "# 2.) in python. Above I did it very slowly, one subclass at a time\n",
        "\n",
        "mage_num = c.execute('SELECT COUNT (*) FROM charactercreator_mage').fetchone()[0]\n",
        "thief_num = c.execute('SELECT COUNT (*) FROM charactercreator_thief').fetchone()[0]\n",
        "cleric_num = c.execute('SELECT COUNT (*) FROM charactercreator_cleric').fetchone()[0]\n",
        "fighter_num = c.execute('SELECT COUNT (*) FROM charactercreator_fighter').fetchone()[0]\n",
        "\n",
        "print(mage_num, thief_num, cleric_num, fighter_num)"
      ],
      "execution_count": 38,
      "outputs": [
        {
          "output_type": "stream",
          "text": [
            "108 51 75 68\n"
          ],
          "name": "stdout"
        }
      ]
    },
    {
      "cell_type": "code",
      "metadata": {
        "id": "OMMaFY86xe4-",
        "colab_type": "code",
        "colab": {}
      },
      "source": [
        "# 3.) How many total Items?\n",
        "\n",
        "SELECT *\n",
        "FROM armory_item\n",
        "\n",
        "Result: 174 rows returned in 27ms\n",
        "At line 1:\n",
        "SELECT *\n",
        "FROM armory_item\n",
        "\n",
        "SELECT DISTINCT name\n",
        "FROM armory_item\n",
        "\n",
        "Result: 172 rows returned in 10ms\n",
        "At line 1:\n",
        "SELECT DISTINCT name\n",
        "FROM armory_item"
      ],
      "execution_count": 0,
      "outputs": []
    },
    {
      "cell_type": "code",
      "metadata": {
        "id": "H2Xznzaloc9F",
        "colab_type": "code",
        "colab": {
          "base_uri": "https://localhost:8080/",
          "height": 34
        },
        "outputId": "cbf31d25-e4c0-44c6-d04d-34d3351380df"
      },
      "source": [
        "# Cool. Starting to feel a little better abouthis...\n",
        "\n",
        "items_num = c.execute('SELECT COUNT (*) FROM armory_item').fetchone()[0]\n",
        "\n",
        "print(items_num)"
      ],
      "execution_count": 40,
      "outputs": [
        {
          "output_type": "stream",
          "text": [
            "174\n"
          ],
          "name": "stdout"
        }
      ]
    },
    {
      "cell_type": "code",
      "metadata": {
        "id": "Lwe0q6iNq-vG",
        "colab_type": "code",
        "colab": {
          "base_uri": "https://localhost:8080/",
          "height": 34
        },
        "outputId": "59ac5fcb-ae98-49e3-a247-5b928f9ae28d"
      },
      "source": [
        "# YES!!! got it.\n",
        "\n",
        "items_names = c.execute('SELECT COUNT (DISTINCT name) FROM armory_item').fetchall()[0][0]\n",
        "\n",
        "print(items_names)"
      ],
      "execution_count": 51,
      "outputs": [
        {
          "output_type": "stream",
          "text": [
            "172\n"
          ],
          "name": "stdout"
        }
      ]
    },
    {
      "cell_type": "code",
      "metadata": {
        "id": "yYDTpKcUzAeM",
        "colab_type": "code",
        "colab": {}
      },
      "source": [
        "# 4.) How many of the Items are weapons? How many are not?\n",
        "SELECT *\n",
        "FROM armory_weapon\n",
        "\n",
        "Result: 37 rows returned in 9ms\n",
        "At line 1:\n",
        "SELECT *\n",
        "FROM armory_weapon\n",
        "\n",
        "174-37 = 137"
      ],
      "execution_count": 0,
      "outputs": []
    },
    {
      "cell_type": "code",
      "metadata": {
        "id": "xOAXl7dOwYya",
        "colab_type": "code",
        "colab": {
          "base_uri": "https://localhost:8080/",
          "height": 51
        },
        "outputId": "bad5b4a6-2429-4cf1-82c9-b07e58e5ec55"
      },
      "source": [
        "weapon_num = c.execute('SELECT COUNT (item_ptr_id) FROM armory_weapon').fetchone()[0]\n",
        "\n",
        "print(weapon_num)\n",
        "\n",
        "print(items_names - weapon_num)"
      ],
      "execution_count": 55,
      "outputs": [
        {
          "output_type": "stream",
          "text": [
            "37\n",
            "135\n"
          ],
          "name": "stdout"
        }
      ]
    },
    {
      "cell_type": "code",
      "metadata": {
        "id": "05m0IGPV0XqG",
        "colab_type": "code",
        "colab": {
          "base_uri": "https://localhost:8080/",
          "height": 54
        },
        "outputId": "d38631d6-9fa2-4705-fc95-563efa6c3612"
      },
      "source": [
        "# 6.) How many Items does each character have? (Return first 20 rows)\n",
        "\n",
        "char_items = c.execute('''SELECT character_id, COUNT (item_id) \n",
        "                        FROM charactercreator_character_inventory\n",
        "                        GROUP BY character_id\n",
        "                        LIMIT 20;\n",
        "                        ''').fetchall()\n",
        "\n",
        "print(char_items)\n",
        "\n",
        "# would really like to have their names instead of ids..."
      ],
      "execution_count": 60,
      "outputs": [
        {
          "output_type": "stream",
          "text": [
            "[(1, 3), (2, 3), (3, 2), (4, 4), (5, 4), (6, 1), (7, 5), (8, 3), (9, 4), (10, 4), (11, 3), (12, 3), (13, 4), (14, 4), (15, 4), (16, 1), (17, 5), (18, 5), (19, 3), (20, 1)]\n"
          ],
          "name": "stdout"
        }
      ]
    },
    {
      "cell_type": "code",
      "metadata": {
        "id": "9gzWkhw1yN2n",
        "colab_type": "code",
        "colab": {
          "base_uri": "https://localhost:8080/",
          "height": 54
        },
        "outputId": "dfb2d2bf-40df-438c-d3de-c19b48e00cf0"
      },
      "source": [
        "# NICE!!!!\n",
        "\n",
        "char_items = c.execute('''SELECT cc.name, COUNT (cci.item_id) \n",
        "                          FROM charactercreator_character_inventory AS cci\n",
        "                          INNER JOIN charactercreator_character as cc \n",
        "                          ON cci.character_id = cc.character_id\n",
        "                          GROUP BY name\n",
        "                          LIMIT 20;\n",
        "                          ''').fetchall()\n",
        "\n",
        "print(char_items)"
      ],
      "execution_count": 70,
      "outputs": [
        {
          "output_type": "stream",
          "text": [
            "[('A rem ex', 1), ('A sed pariatur qua', 1), ('Ab illum invento', 3), ('Ab voluptas se', 5), ('Acc', 5), ('Accusa', 3), ('Accusantium amet quidem eve', 3), ('Accusantium qu', 3), ('Accusantium vitae n', 3), ('Ad necess', 2), ('Adip', 3), ('Adipisci molest', 2), ('Adipisci voluptas', 4), ('Ali', 4), ('Aliqu', 5), ('Aliquam n', 5), ('Aliquid iste optio reiciendi', 3), ('Amet quo fugit aliquam sequi', 5), ('Animi labo', 3), ('Aper', 1)]\n"
          ],
          "name": "stdout"
        }
      ]
    },
    {
      "cell_type": "code",
      "metadata": {
        "id": "jBK41Tps9wwk",
        "colab_type": "code",
        "colab": {
          "base_uri": "https://localhost:8080/",
          "height": 34
        },
        "outputId": "4834d775-ede4-4f89-d713-c74108ca92db"
      },
      "source": [
        "# 7.) On average, how many Items does each Character have?\n",
        "\n",
        "avg_items = c.execute('''SELECT AVG(cnt)\n",
        "                         FROM (SELECT character_id, COUNT(item_id) as cnt\n",
        "                               FROM charactercreator_character_inventory\n",
        "                               GROUP BY character_id\n",
        "                               )\n",
        "''').fetchone()[0]\n",
        "\n",
        "print(avg_items)"
      ],
      "execution_count": 75,
      "outputs": [
        {
          "output_type": "stream",
          "text": [
            "2.9735099337748343\n"
          ],
          "name": "stdout"
        }
      ]
    },
    {
      "cell_type": "code",
      "metadata": {
        "id": "p8B2BMkD_BL2",
        "colab_type": "code",
        "colab": {
          "base_uri": "https://localhost:8080/",
          "height": 34
        },
        "outputId": "30bb76da-788f-4ae8-955b-432285cba164"
      },
      "source": [
        "# 8.) On average, how many Weapons does each character have?\n",
        "\n",
        "avg_weap = c.execute('''SELECT AVG(cnt)\n",
        "                         FROM (SELECT cci.character_id, COUNT(aw.item_ptr_id) as cnt\n",
        "                               FROM charactercreator_character_inventory AS cci,\n",
        "                                    armory_weapon AS aw,\n",
        "                                    armory_item AS ai\n",
        "                               WHERE cci.item_id = ai.item_id AND\n",
        "                                     ai.item_id = aw.item_ptr_id\n",
        "                               GROUP BY cci.character_id\n",
        "                               )\n",
        "''').fetchone()[0]\n",
        "\n",
        "print(avg_weap)"
      ],
      "execution_count": 76,
      "outputs": [
        {
          "output_type": "stream",
          "text": [
            "1.3096774193548386\n"
          ],
          "name": "stdout"
        }
      ]
    },
    {
      "cell_type": "code",
      "metadata": {
        "id": "YptuZNK9_lF-",
        "colab_type": "code",
        "colab": {}
      },
      "source": [
        ""
      ],
      "execution_count": 0,
      "outputs": []
    },
    {
      "cell_type": "markdown",
      "metadata": {
        "id": "SJ3-mgx9gt7W",
        "colab_type": "text"
      },
      "source": [
        "## Part 2 of Assignment:"
      ]
    },
    {
      "cell_type": "code",
      "metadata": {
        "id": "f6A1V3w0Olji",
        "colab_type": "code",
        "colab": {
          "base_uri": "https://localhost:8080/",
          "height": 224
        },
        "outputId": "b0eafe3d-c569-4e93-ba9c-56fcf89538db"
      },
      "source": [
        "!wget https://raw.githubusercontent.com/mikedcurry/DS-Unit-3-Sprint-2-SQL-and-Databases/master/module1-introduction-to-sql/buddymove_holidayiq.csv"
      ],
      "execution_count": 80,
      "outputs": [
        {
          "output_type": "stream",
          "text": [
            "--2019-09-10 22:11:10--  https://raw.githubusercontent.com/mikedcurry/DS-Unit-3-Sprint-2-SQL-and-Databases/master/module1-introduction-to-sql/buddymove_holidayiq.csv\n",
            "Resolving raw.githubusercontent.com (raw.githubusercontent.com)... 151.101.0.133, 151.101.64.133, 151.101.128.133, ...\n",
            "Connecting to raw.githubusercontent.com (raw.githubusercontent.com)|151.101.0.133|:443... connected.\n",
            "HTTP request sent, awaiting response... 200 OK\n",
            "Length: 7566 (7.4K) [text/plain]\n",
            "Saving to: ‘buddymove_holidayiq.csv’\n",
            "\n",
            "\rbuddymove_holidayiq   0%[                    ]       0  --.-KB/s               \rbuddymove_holidayiq 100%[===================>]   7.39K  --.-KB/s    in 0s      \n",
            "\n",
            "2019-09-10 22:11:10 (117 MB/s) - ‘buddymove_holidayiq.csv’ saved [7566/7566]\n",
            "\n"
          ],
          "name": "stdout"
        }
      ]
    },
    {
      "cell_type": "code",
      "metadata": {
        "id": "PcxrZEWCOwWF",
        "colab_type": "code",
        "colab": {}
      },
      "source": [
        "# hmm... might not be able to use this trick \n",
        "\n",
        "!mv '' .sqlite3"
      ],
      "execution_count": 0,
      "outputs": []
    },
    {
      "cell_type": "code",
      "metadata": {
        "id": "kXnb53PagzZA",
        "colab_type": "code",
        "colab": {}
      },
      "source": [
        "import pandas as pd\n",
        "import sqlite3\n",
        "import os"
      ],
      "execution_count": 0,
      "outputs": []
    },
    {
      "cell_type": "code",
      "metadata": {
        "id": "7hb8SMJ-Ntii",
        "colab_type": "code",
        "colab": {}
      },
      "source": [
        "url = 'https://raw.githubusercontent.com/mikedcurry/DS-Unit-3-Sprint-2-SQL-and-Databases/master/module1-introduction-to-sql/buddymove_holidayiq.csv'"
      ],
      "execution_count": 0,
      "outputs": []
    },
    {
      "cell_type": "code",
      "metadata": {
        "id": "9_qlx25-N-eL",
        "colab_type": "code",
        "colab": {}
      },
      "source": [
        "df = pd.read_csv(url)"
      ],
      "execution_count": 0,
      "outputs": []
    },
    {
      "cell_type": "code",
      "metadata": {
        "id": "fS-nIVvvT19B",
        "colab_type": "code",
        "colab": {
          "base_uri": "https://localhost:8080/",
          "height": 204
        },
        "outputId": "5f5199d6-4ddd-449c-9b92-b5773e4d8df2"
      },
      "source": [
        "df.head()"
      ],
      "execution_count": 93,
      "outputs": [
        {
          "output_type": "execute_result",
          "data": {
            "text/html": [
              "<div>\n",
              "<style scoped>\n",
              "    .dataframe tbody tr th:only-of-type {\n",
              "        vertical-align: middle;\n",
              "    }\n",
              "\n",
              "    .dataframe tbody tr th {\n",
              "        vertical-align: top;\n",
              "    }\n",
              "\n",
              "    .dataframe thead th {\n",
              "        text-align: right;\n",
              "    }\n",
              "</style>\n",
              "<table border=\"1\" class=\"dataframe\">\n",
              "  <thead>\n",
              "    <tr style=\"text-align: right;\">\n",
              "      <th></th>\n",
              "      <th>User Id</th>\n",
              "      <th>Sports</th>\n",
              "      <th>Religious</th>\n",
              "      <th>Nature</th>\n",
              "      <th>Theatre</th>\n",
              "      <th>Shopping</th>\n",
              "      <th>Picnic</th>\n",
              "    </tr>\n",
              "  </thead>\n",
              "  <tbody>\n",
              "    <tr>\n",
              "      <th>0</th>\n",
              "      <td>User 1</td>\n",
              "      <td>2</td>\n",
              "      <td>77</td>\n",
              "      <td>79</td>\n",
              "      <td>69</td>\n",
              "      <td>68</td>\n",
              "      <td>95</td>\n",
              "    </tr>\n",
              "    <tr>\n",
              "      <th>1</th>\n",
              "      <td>User 2</td>\n",
              "      <td>2</td>\n",
              "      <td>62</td>\n",
              "      <td>76</td>\n",
              "      <td>76</td>\n",
              "      <td>69</td>\n",
              "      <td>68</td>\n",
              "    </tr>\n",
              "    <tr>\n",
              "      <th>2</th>\n",
              "      <td>User 3</td>\n",
              "      <td>2</td>\n",
              "      <td>50</td>\n",
              "      <td>97</td>\n",
              "      <td>87</td>\n",
              "      <td>50</td>\n",
              "      <td>75</td>\n",
              "    </tr>\n",
              "    <tr>\n",
              "      <th>3</th>\n",
              "      <td>User 4</td>\n",
              "      <td>2</td>\n",
              "      <td>68</td>\n",
              "      <td>77</td>\n",
              "      <td>95</td>\n",
              "      <td>76</td>\n",
              "      <td>61</td>\n",
              "    </tr>\n",
              "    <tr>\n",
              "      <th>4</th>\n",
              "      <td>User 5</td>\n",
              "      <td>2</td>\n",
              "      <td>98</td>\n",
              "      <td>54</td>\n",
              "      <td>59</td>\n",
              "      <td>95</td>\n",
              "      <td>86</td>\n",
              "    </tr>\n",
              "  </tbody>\n",
              "</table>\n",
              "</div>"
            ],
            "text/plain": [
              "  User Id  Sports  Religious  Nature  Theatre  Shopping  Picnic\n",
              "0  User 1       2         77      79       69        68      95\n",
              "1  User 2       2         62      76       76        69      68\n",
              "2  User 3       2         50      97       87        50      75\n",
              "3  User 4       2         68      77       95        76      61\n",
              "4  User 5       2         98      54       59        95      86"
            ]
          },
          "metadata": {
            "tags": []
          },
          "execution_count": 93
        }
      ]
    },
    {
      "cell_type": "code",
      "metadata": {
        "id": "NlvOeB8bQayM",
        "colab_type": "code",
        "colab": {}
      },
      "source": [
        "# Make empty connection then 'c' it\n",
        "\n",
        "conn = sqlite3.connect('b_h.sqlite3')"
      ],
      "execution_count": 0,
      "outputs": []
    },
    {
      "cell_type": "code",
      "metadata": {
        "id": "Au85SXSsQtNk",
        "colab_type": "code",
        "colab": {
          "base_uri": "https://localhost:8080/",
          "height": 71
        },
        "outputId": "7e404993-2ef6-440f-ae5c-e4e3798f5966"
      },
      "source": [
        "# use pandas to convert df to sql db\n",
        "\n",
        "df.to_sql('df', conn, if_exists='replace') # might choose: if_exists = append, replace, fail"
      ],
      "execution_count": 105,
      "outputs": [
        {
          "output_type": "stream",
          "text": [
            "/usr/local/lib/python3.6/dist-packages/pandas/core/generic.py:2531: UserWarning: The spaces in these column names will not be changed. In pandas versions < 0.14, spaces were converted to underscores.\n",
            "  dtype=dtype, method=method)\n"
          ],
          "name": "stderr"
        }
      ]
    },
    {
      "cell_type": "code",
      "metadata": {
        "id": "4ja4TRhjU3_C",
        "colab_type": "code",
        "colab": {}
      },
      "source": [
        "c = conn.cursor()"
      ],
      "execution_count": 0,
      "outputs": []
    },
    {
      "cell_type": "code",
      "metadata": {
        "id": "CW_zV5hQR148",
        "colab_type": "code",
        "colab": {
          "base_uri": "https://localhost:8080/",
          "height": 34
        },
        "outputId": "0584577d-0566-4fe7-f6a9-e5dbfb2e752c"
      },
      "source": [
        "#INSTRUCTIONS: Count how many rows you have - it should be 249!\n",
        "\n",
        "# as above...\n",
        "# mage_num = c.execute('SELECT COUNT (*) FROM charactercreator_mage').fetchone()[0]\n",
        "\n",
        "row_num = c.execute('SELECT COUNT(*) FROM df').fetchone()[0] # weird: it called the table df in sql...\n",
        "\n",
        "print(row_num)"
      ],
      "execution_count": 109,
      "outputs": [
        {
          "output_type": "stream",
          "text": [
            "249\n"
          ],
          "name": "stdout"
        }
      ]
    },
    {
      "cell_type": "code",
      "metadata": {
        "id": "NLi-mxWWVhzR",
        "colab_type": "code",
        "colab": {}
      },
      "source": [
        "# Another powerful tool I might come back to: https://pandas.pydata.org/pandas-docs/stable/reference/api/pandas.read_sql_query.html#pandas.read_sql_query\n",
        "\n",
        "# pd.read_sql_query('')"
      ],
      "execution_count": 0,
      "outputs": []
    },
    {
      "cell_type": "code",
      "metadata": {
        "id": "sM6KfUrLWWEd",
        "colab_type": "code",
        "colab": {
          "base_uri": "https://localhost:8080/",
          "height": 34
        },
        "outputId": "60365382-6242-4c44-a28c-9d330d006567"
      },
      "source": [
        "# Instructions: How many users who reviewed at least 100 Nature in the category \n",
        "# also reviewed at least 100 in the Shopping category?\n",
        "\n",
        "shop_nature = c.execute('''SELECT COUNT(*) \n",
        "                           FROM df \n",
        "                           WHERE Nature>=100 AND \n",
        "                                 Shopping >=100;\n",
        "                        ''').fetchone()[0]\n",
        "\n",
        "print(shop_nature)"
      ],
      "execution_count": 113,
      "outputs": [
        {
          "output_type": "stream",
          "text": [
            "78\n"
          ],
          "name": "stdout"
        }
      ]
    }
  ]
}